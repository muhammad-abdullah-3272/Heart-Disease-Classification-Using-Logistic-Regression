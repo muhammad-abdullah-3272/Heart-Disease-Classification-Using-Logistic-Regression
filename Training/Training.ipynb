{
 "cells": [
  {
   "cell_type": "markdown",
   "id": "bacda492",
   "metadata": {},
   "source": [
    "## CLASSIFICATION OF HEART DISEASE USING LOGISTIC REGRESSION MODEL"
   ]
  },
  {
   "cell_type": "code",
   "execution_count": 1,
   "id": "53abee05",
   "metadata": {},
   "outputs": [],
   "source": [
    "## Importing Necessary Libraries\n",
    "import numpy as np\n",
    "import pandas as pd\n",
    "import seaborn as sns\n",
    "import matplotlib.pyplot as plt\n",
    "\n",
    "plt.rcParams['figure.figsize'] = (10.0, 5.0)"
   ]
  },
  {
   "cell_type": "code",
   "execution_count": 2,
   "id": "c24eda9d",
   "metadata": {},
   "outputs": [
    {
     "name": "stdout",
     "output_type": "stream",
     "text": [
      "(918, 12)\n"
     ]
    },
    {
     "data": {
      "text/html": [
       "<div>\n",
       "<style scoped>\n",
       "    .dataframe tbody tr th:only-of-type {\n",
       "        vertical-align: middle;\n",
       "    }\n",
       "\n",
       "    .dataframe tbody tr th {\n",
       "        vertical-align: top;\n",
       "    }\n",
       "\n",
       "    .dataframe thead th {\n",
       "        text-align: right;\n",
       "    }\n",
       "</style>\n",
       "<table border=\"1\" class=\"dataframe\">\n",
       "  <thead>\n",
       "    <tr style=\"text-align: right;\">\n",
       "      <th></th>\n",
       "      <th>Age</th>\n",
       "      <th>Sex</th>\n",
       "      <th>ChestPainType</th>\n",
       "      <th>RestingBP</th>\n",
       "      <th>Cholesterol</th>\n",
       "      <th>FastingBS</th>\n",
       "      <th>RestingECG</th>\n",
       "      <th>MaxHR</th>\n",
       "      <th>ExerciseAngina</th>\n",
       "      <th>Oldpeak</th>\n",
       "      <th>ST_Slope</th>\n",
       "      <th>HeartDisease</th>\n",
       "    </tr>\n",
       "  </thead>\n",
       "  <tbody>\n",
       "    <tr>\n",
       "      <th>0</th>\n",
       "      <td>40</td>\n",
       "      <td>M</td>\n",
       "      <td>ATA</td>\n",
       "      <td>140</td>\n",
       "      <td>289</td>\n",
       "      <td>0</td>\n",
       "      <td>Normal</td>\n",
       "      <td>172</td>\n",
       "      <td>N</td>\n",
       "      <td>0.0</td>\n",
       "      <td>Up</td>\n",
       "      <td>0</td>\n",
       "    </tr>\n",
       "    <tr>\n",
       "      <th>1</th>\n",
       "      <td>49</td>\n",
       "      <td>F</td>\n",
       "      <td>NAP</td>\n",
       "      <td>160</td>\n",
       "      <td>180</td>\n",
       "      <td>0</td>\n",
       "      <td>Normal</td>\n",
       "      <td>156</td>\n",
       "      <td>N</td>\n",
       "      <td>1.0</td>\n",
       "      <td>Flat</td>\n",
       "      <td>1</td>\n",
       "    </tr>\n",
       "    <tr>\n",
       "      <th>2</th>\n",
       "      <td>37</td>\n",
       "      <td>M</td>\n",
       "      <td>ATA</td>\n",
       "      <td>130</td>\n",
       "      <td>283</td>\n",
       "      <td>0</td>\n",
       "      <td>ST</td>\n",
       "      <td>98</td>\n",
       "      <td>N</td>\n",
       "      <td>0.0</td>\n",
       "      <td>Up</td>\n",
       "      <td>0</td>\n",
       "    </tr>\n",
       "    <tr>\n",
       "      <th>3</th>\n",
       "      <td>48</td>\n",
       "      <td>F</td>\n",
       "      <td>ASY</td>\n",
       "      <td>138</td>\n",
       "      <td>214</td>\n",
       "      <td>0</td>\n",
       "      <td>Normal</td>\n",
       "      <td>108</td>\n",
       "      <td>Y</td>\n",
       "      <td>1.5</td>\n",
       "      <td>Flat</td>\n",
       "      <td>1</td>\n",
       "    </tr>\n",
       "    <tr>\n",
       "      <th>4</th>\n",
       "      <td>54</td>\n",
       "      <td>M</td>\n",
       "      <td>NAP</td>\n",
       "      <td>150</td>\n",
       "      <td>195</td>\n",
       "      <td>0</td>\n",
       "      <td>Normal</td>\n",
       "      <td>122</td>\n",
       "      <td>N</td>\n",
       "      <td>0.0</td>\n",
       "      <td>Up</td>\n",
       "      <td>0</td>\n",
       "    </tr>\n",
       "  </tbody>\n",
       "</table>\n",
       "</div>"
      ],
      "text/plain": [
       "   Age Sex ChestPainType  RestingBP  Cholesterol  FastingBS RestingECG  MaxHR  \\\n",
       "0   40   M           ATA        140          289          0     Normal    172   \n",
       "1   49   F           NAP        160          180          0     Normal    156   \n",
       "2   37   M           ATA        130          283          0         ST     98   \n",
       "3   48   F           ASY        138          214          0     Normal    108   \n",
       "4   54   M           NAP        150          195          0     Normal    122   \n",
       "\n",
       "  ExerciseAngina  Oldpeak ST_Slope  HeartDisease  \n",
       "0              N      0.0       Up             0  \n",
       "1              N      1.0     Flat             1  \n",
       "2              N      0.0       Up             0  \n",
       "3              Y      1.5     Flat             1  \n",
       "4              N      0.0       Up             0  "
      ]
     },
     "execution_count": 2,
     "metadata": {},
     "output_type": "execute_result"
    }
   ],
   "source": [
    "## Reading the Dataset \n",
    "data = pd.read_csv('heart.csv', encoding='unicode_escape')\n",
    "print(data.shape)\n",
    "data.head()"
   ]
  },
  {
   "cell_type": "code",
   "execution_count": 3,
   "id": "e714347a",
   "metadata": {},
   "outputs": [],
   "source": [
    "Max = [77, 1, 3, 200, 603, 1, 2, 202, 1, 6.2, 2]          # Max values for each feature from the dataset\n",
    "Min = [28, 0, 0, 0, 0, 0, 0, 60, 0, -2.6, 0]              # Min values for each feature from the dataset\n",
    "\n",
    "## Saving Max and Min values as .npy file\n",
    "np.save(\"Max\", Max)\n",
    "np.save(\"Min\", Min)"
   ]
  },
  {
   "cell_type": "markdown",
   "id": "f6c6e35c",
   "metadata": {},
   "source": [
    "## String Data Conversion to Int"
   ]
  },
  {
   "cell_type": "code",
   "execution_count": 4,
   "id": "b4f7562b",
   "metadata": {},
   "outputs": [],
   "source": [
    "def dataReplace(data):\n",
    "    '''\n",
    "    This fucntion converts string data type to int data type.\n",
    "    The model takes the following arguments:\n",
    "    \n",
    "    Data (Features containing String data type)\n",
    "    \n",
    "    returns:\n",
    "    Data (Features converted to Int data type)\n",
    "    '''\n",
    "    \n",
    "    data['Sex'][data['Sex'] == 'F'] = 0                                    # Replace F with 0\n",
    "    data['Sex'][data['Sex'] == 'M'] = 1                                    # Replace M with 1\n",
    "\n",
    "    data['ChestPainType'][data['ChestPainType'] == 'ATA'] = 0              # Replace ATA with 0\n",
    "    data['ChestPainType'][data['ChestPainType'] == 'NAP'] = 1              # Replace NAP with 1\n",
    "    data['ChestPainType'][data['ChestPainType'] == 'ASY'] = 2              # Replace ASY with 2\n",
    "    data['ChestPainType'][data['ChestPainType'] == 'TA'] = 3               # Replace TA with 3\n",
    "\n",
    "    data['RestingECG'][data['RestingECG'] == 'Normal'] = 0                 # Replace Normal with 0\n",
    "    data['RestingECG'][data['RestingECG'] == 'ST'] = 1                     # Replace ST with 1\n",
    "    data['RestingECG'][data['RestingECG'] == 'LVH'] = 2                    # Replace LVH with 2\n",
    "\n",
    "    data['ExerciseAngina'][data['ExerciseAngina'] == 'N'] = 0              # Replace N with 0\n",
    "    data['ExerciseAngina'][data['ExerciseAngina'] == 'Y'] = 1              # Replace Y with 1\n",
    "\n",
    "    data['ST_Slope'][data['ST_Slope'] == 'Up'] = 0                         # Replace Up with 0\n",
    "    data['ST_Slope'][data['ST_Slope'] == 'Flat'] = 1                       # Replace Flat with 1\n",
    "    data['ST_Slope'][data['ST_Slope'] == 'Down'] = 2                       # Replace Down with 2\n",
    "\n",
    "    return data"
   ]
  },
  {
   "cell_type": "markdown",
   "id": "38a7c9b0",
   "metadata": {},
   "source": [
    "## Feature Scaling"
   ]
  },
  {
   "cell_type": "code",
   "execution_count": 5,
   "id": "54560dff",
   "metadata": {},
   "outputs": [],
   "source": [
    "def scale(data):\n",
    "    '''\n",
    "    This fucntion performs data scaling from -1 to 1 using min-max critera.\n",
    "    The model takes the following arguments:\n",
    "    \n",
    "    Data (numpy array): Input dataset\n",
    "    \n",
    "    returns:\n",
    "    Scaled Data (numpy array)\n",
    "    '''\n",
    "    \n",
    "    dataScale = 2*((data - data.min()) / (data.max() - data.min())) - 1    # Feature Scaling from -1 to 1\n",
    "    dataScale['HeartDisease'] = data['HeartDisease']                       # Not applying Scaling on Y\n",
    "    return dataScale"
   ]
  },
  {
   "cell_type": "markdown",
   "id": "7d7cfe8e",
   "metadata": {},
   "source": [
    "## Dataset Splitting"
   ]
  },
  {
   "cell_type": "code",
   "execution_count": 6,
   "id": "87b7be22",
   "metadata": {},
   "outputs": [
    {
     "name": "stdout",
     "output_type": "stream",
     "text": [
      "(550, 12)\n",
      "(184, 12)\n",
      "(184, 12)\n"
     ]
    },
    {
     "name": "stderr",
     "output_type": "stream",
     "text": [
      "<ipython-input-4-41c5cb290b52>:12: SettingWithCopyWarning: \n",
      "A value is trying to be set on a copy of a slice from a DataFrame\n",
      "\n",
      "See the caveats in the documentation: https://pandas.pydata.org/pandas-docs/stable/user_guide/indexing.html#returning-a-view-versus-a-copy\n",
      "  data['Sex'][data['Sex'] == 'F'] = 0                                    # Replace F with 0\n",
      "<ipython-input-4-41c5cb290b52>:13: SettingWithCopyWarning: \n",
      "A value is trying to be set on a copy of a slice from a DataFrame\n",
      "\n",
      "See the caveats in the documentation: https://pandas.pydata.org/pandas-docs/stable/user_guide/indexing.html#returning-a-view-versus-a-copy\n",
      "  data['Sex'][data['Sex'] == 'M'] = 1                                    # Replace M with 1\n",
      "<ipython-input-4-41c5cb290b52>:15: SettingWithCopyWarning: \n",
      "A value is trying to be set on a copy of a slice from a DataFrame\n",
      "\n",
      "See the caveats in the documentation: https://pandas.pydata.org/pandas-docs/stable/user_guide/indexing.html#returning-a-view-versus-a-copy\n",
      "  data['ChestPainType'][data['ChestPainType'] == 'ATA'] = 0              # Replace ATA with 0\n",
      "<ipython-input-4-41c5cb290b52>:16: SettingWithCopyWarning: \n",
      "A value is trying to be set on a copy of a slice from a DataFrame\n",
      "\n",
      "See the caveats in the documentation: https://pandas.pydata.org/pandas-docs/stable/user_guide/indexing.html#returning-a-view-versus-a-copy\n",
      "  data['ChestPainType'][data['ChestPainType'] == 'NAP'] = 1              # Replace NAP with 1\n",
      "<ipython-input-4-41c5cb290b52>:17: SettingWithCopyWarning: \n",
      "A value is trying to be set on a copy of a slice from a DataFrame\n",
      "\n",
      "See the caveats in the documentation: https://pandas.pydata.org/pandas-docs/stable/user_guide/indexing.html#returning-a-view-versus-a-copy\n",
      "  data['ChestPainType'][data['ChestPainType'] == 'ASY'] = 2              # Replace ASY with 2\n",
      "<ipython-input-4-41c5cb290b52>:18: SettingWithCopyWarning: \n",
      "A value is trying to be set on a copy of a slice from a DataFrame\n",
      "\n",
      "See the caveats in the documentation: https://pandas.pydata.org/pandas-docs/stable/user_guide/indexing.html#returning-a-view-versus-a-copy\n",
      "  data['ChestPainType'][data['ChestPainType'] == 'TA'] = 3               # Replace TA with 3\n",
      "<ipython-input-4-41c5cb290b52>:20: SettingWithCopyWarning: \n",
      "A value is trying to be set on a copy of a slice from a DataFrame\n",
      "\n",
      "See the caveats in the documentation: https://pandas.pydata.org/pandas-docs/stable/user_guide/indexing.html#returning-a-view-versus-a-copy\n",
      "  data['RestingECG'][data['RestingECG'] == 'Normal'] = 0                 # Replace Normal with 0\n",
      "<ipython-input-4-41c5cb290b52>:21: SettingWithCopyWarning: \n",
      "A value is trying to be set on a copy of a slice from a DataFrame\n",
      "\n",
      "See the caveats in the documentation: https://pandas.pydata.org/pandas-docs/stable/user_guide/indexing.html#returning-a-view-versus-a-copy\n",
      "  data['RestingECG'][data['RestingECG'] == 'ST'] = 1                     # Replace ST with 1\n",
      "<ipython-input-4-41c5cb290b52>:22: SettingWithCopyWarning: \n",
      "A value is trying to be set on a copy of a slice from a DataFrame\n",
      "\n",
      "See the caveats in the documentation: https://pandas.pydata.org/pandas-docs/stable/user_guide/indexing.html#returning-a-view-versus-a-copy\n",
      "  data['RestingECG'][data['RestingECG'] == 'LVH'] = 2                    # Replace LVH with 2\n",
      "<ipython-input-4-41c5cb290b52>:24: SettingWithCopyWarning: \n",
      "A value is trying to be set on a copy of a slice from a DataFrame\n",
      "\n",
      "See the caveats in the documentation: https://pandas.pydata.org/pandas-docs/stable/user_guide/indexing.html#returning-a-view-versus-a-copy\n",
      "  data['ExerciseAngina'][data['ExerciseAngina'] == 'N'] = 0              # Replace N with 0\n",
      "<ipython-input-4-41c5cb290b52>:25: SettingWithCopyWarning: \n",
      "A value is trying to be set on a copy of a slice from a DataFrame\n",
      "\n",
      "See the caveats in the documentation: https://pandas.pydata.org/pandas-docs/stable/user_guide/indexing.html#returning-a-view-versus-a-copy\n",
      "  data['ExerciseAngina'][data['ExerciseAngina'] == 'Y'] = 1              # Replace Y with 1\n",
      "<ipython-input-4-41c5cb290b52>:27: SettingWithCopyWarning: \n",
      "A value is trying to be set on a copy of a slice from a DataFrame\n",
      "\n",
      "See the caveats in the documentation: https://pandas.pydata.org/pandas-docs/stable/user_guide/indexing.html#returning-a-view-versus-a-copy\n",
      "  data['ST_Slope'][data['ST_Slope'] == 'Up'] = 0                         # Replace Up with 0\n",
      "<ipython-input-4-41c5cb290b52>:28: SettingWithCopyWarning: \n",
      "A value is trying to be set on a copy of a slice from a DataFrame\n",
      "\n",
      "See the caveats in the documentation: https://pandas.pydata.org/pandas-docs/stable/user_guide/indexing.html#returning-a-view-versus-a-copy\n",
      "  data['ST_Slope'][data['ST_Slope'] == 'Flat'] = 1                       # Replace Flat with 1\n",
      "<ipython-input-4-41c5cb290b52>:29: SettingWithCopyWarning: \n",
      "A value is trying to be set on a copy of a slice from a DataFrame\n",
      "\n",
      "See the caveats in the documentation: https://pandas.pydata.org/pandas-docs/stable/user_guide/indexing.html#returning-a-view-versus-a-copy\n",
      "  data['ST_Slope'][data['ST_Slope'] == 'Down'] = 2                       # Replace Down with 2\n"
     ]
    },
    {
     "data": {
      "text/html": [
       "<div>\n",
       "<style scoped>\n",
       "    .dataframe tbody tr th:only-of-type {\n",
       "        vertical-align: middle;\n",
       "    }\n",
       "\n",
       "    .dataframe tbody tr th {\n",
       "        vertical-align: top;\n",
       "    }\n",
       "\n",
       "    .dataframe thead th {\n",
       "        text-align: right;\n",
       "    }\n",
       "</style>\n",
       "<table border=\"1\" class=\"dataframe\">\n",
       "  <thead>\n",
       "    <tr style=\"text-align: right;\">\n",
       "      <th></th>\n",
       "      <th>Age</th>\n",
       "      <th>Sex</th>\n",
       "      <th>ChestPainType</th>\n",
       "      <th>RestingBP</th>\n",
       "      <th>Cholesterol</th>\n",
       "      <th>FastingBS</th>\n",
       "      <th>RestingECG</th>\n",
       "      <th>MaxHR</th>\n",
       "      <th>ExerciseAngina</th>\n",
       "      <th>Oldpeak</th>\n",
       "      <th>ST_Slope</th>\n",
       "      <th>HeartDisease</th>\n",
       "    </tr>\n",
       "  </thead>\n",
       "  <tbody>\n",
       "    <tr>\n",
       "      <th>0</th>\n",
       "      <td>-0.510204</td>\n",
       "      <td>1.0</td>\n",
       "      <td>-1.0</td>\n",
       "      <td>0.4</td>\n",
       "      <td>-0.041459</td>\n",
       "      <td>-1.0</td>\n",
       "      <td>-1.0</td>\n",
       "      <td>0.577465</td>\n",
       "      <td>-1.0</td>\n",
       "      <td>-0.409091</td>\n",
       "      <td>-1.0</td>\n",
       "      <td>0</td>\n",
       "    </tr>\n",
       "    <tr>\n",
       "      <th>1</th>\n",
       "      <td>-0.142857</td>\n",
       "      <td>-1.0</td>\n",
       "      <td>-0.333333</td>\n",
       "      <td>0.6</td>\n",
       "      <td>-0.402985</td>\n",
       "      <td>-1.0</td>\n",
       "      <td>-1.0</td>\n",
       "      <td>0.352113</td>\n",
       "      <td>-1.0</td>\n",
       "      <td>-0.181818</td>\n",
       "      <td>0.0</td>\n",
       "      <td>1</td>\n",
       "    </tr>\n",
       "    <tr>\n",
       "      <th>2</th>\n",
       "      <td>-0.632653</td>\n",
       "      <td>1.0</td>\n",
       "      <td>-1.0</td>\n",
       "      <td>0.3</td>\n",
       "      <td>-0.06136</td>\n",
       "      <td>-1.0</td>\n",
       "      <td>0.0</td>\n",
       "      <td>-0.464789</td>\n",
       "      <td>-1.0</td>\n",
       "      <td>-0.409091</td>\n",
       "      <td>-1.0</td>\n",
       "      <td>0</td>\n",
       "    </tr>\n",
       "    <tr>\n",
       "      <th>3</th>\n",
       "      <td>-0.183673</td>\n",
       "      <td>-1.0</td>\n",
       "      <td>0.333333</td>\n",
       "      <td>0.38</td>\n",
       "      <td>-0.290216</td>\n",
       "      <td>-1.0</td>\n",
       "      <td>-1.0</td>\n",
       "      <td>-0.323944</td>\n",
       "      <td>1.0</td>\n",
       "      <td>-0.068182</td>\n",
       "      <td>0.0</td>\n",
       "      <td>1</td>\n",
       "    </tr>\n",
       "    <tr>\n",
       "      <th>4</th>\n",
       "      <td>0.061224</td>\n",
       "      <td>1.0</td>\n",
       "      <td>-0.333333</td>\n",
       "      <td>0.5</td>\n",
       "      <td>-0.353234</td>\n",
       "      <td>-1.0</td>\n",
       "      <td>-1.0</td>\n",
       "      <td>-0.126761</td>\n",
       "      <td>-1.0</td>\n",
       "      <td>-0.409091</td>\n",
       "      <td>-1.0</td>\n",
       "      <td>0</td>\n",
       "    </tr>\n",
       "  </tbody>\n",
       "</table>\n",
       "</div>"
      ],
      "text/plain": [
       "        Age  Sex ChestPainType RestingBP Cholesterol FastingBS RestingECG  \\\n",
       "0 -0.510204  1.0          -1.0       0.4   -0.041459      -1.0       -1.0   \n",
       "1 -0.142857 -1.0     -0.333333       0.6   -0.402985      -1.0       -1.0   \n",
       "2 -0.632653  1.0          -1.0       0.3    -0.06136      -1.0        0.0   \n",
       "3 -0.183673 -1.0      0.333333      0.38   -0.290216      -1.0       -1.0   \n",
       "4  0.061224  1.0     -0.333333       0.5   -0.353234      -1.0       -1.0   \n",
       "\n",
       "      MaxHR ExerciseAngina   Oldpeak ST_Slope  HeartDisease  \n",
       "0  0.577465           -1.0 -0.409091     -1.0             0  \n",
       "1  0.352113           -1.0 -0.181818      0.0             1  \n",
       "2 -0.464789           -1.0 -0.409091     -1.0             0  \n",
       "3 -0.323944            1.0 -0.068182      0.0             1  \n",
       "4 -0.126761           -1.0 -0.409091     -1.0             0  "
      ]
     },
     "execution_count": 6,
     "metadata": {},
     "output_type": "execute_result"
    }
   ],
   "source": [
    "data = dataReplace(data)                          # Calling the Data Conversion Function and assigning it to variable data\n",
    "data = scale(data)                                # Calling the Feature Scaling Function and assigning it to variable data\n",
    "\n",
    "# Splitting the Dataset into Train set(60%), Cross Validation set(20%) and Test set(20%).\n",
    "train, val, test = np.split(data.sample(frac=1), [int(0.6 * len(data)), int(0.8 * len(data))])\n",
    "print(train.shape)\n",
    "print(val.shape)\n",
    "print(test.shape)\n",
    "data.head()"
   ]
  },
  {
   "cell_type": "markdown",
   "id": "b5f6131c",
   "metadata": {},
   "source": [
    "## Features and Labels Extraction"
   ]
  },
  {
   "cell_type": "code",
   "execution_count": 7,
   "id": "2c833da4",
   "metadata": {},
   "outputs": [],
   "source": [
    "X_data = [\"Age\", \"Sex\", \"ChestPainType\", \"RestingBP\", \"Cholesterol\", \"FastingBS\", \"RestingECG\", \"MaxHR\", \n",
    "          \"ExerciseAngina\", \"Oldpeak\", \"ST_Slope\"]                # Extracting Features\n",
    "Y_data = [\"HeartDisease\"]                                         # Extracting Labels\n",
    "\n",
    "X_train = train[X_data]                                           # Assigning Features to X_train               \n",
    "Y_train = train[Y_data]                                           # Assigning Features to Y_train\n",
    "\n",
    "X_val = val[X_data]                                               # Assigning Features to X_val\n",
    "Y_val = val[Y_data]                                               # Assigning Features to Y_val\n",
    "\n",
    "X_test = test[X_data]                                             # Assigning Features to X_test\n",
    "Y_test = test[Y_data]                                             # Assigning Features to Y_test"
   ]
  },
  {
   "cell_type": "code",
   "execution_count": 8,
   "id": "bf943eca",
   "metadata": {},
   "outputs": [],
   "source": [
    "X_train = X_train.values                                          # Extracting values from X_train\n",
    "Y_train = Y_train.values                                          # Extracting values from Y_train\n",
    "\n",
    "X_val = X_val.values                                              # Extracting values from X_val\n",
    "Y_val = Y_val.values                                              # Extracting values from Y_val\n",
    "\n",
    "X_test = X_test.values                                            # Extracting values from X_test\n",
    "Y_test = Y_test.values                                            # Extracting values from Y_test"
   ]
  },
  {
   "cell_type": "code",
   "execution_count": 9,
   "id": "26746ed8",
   "metadata": {},
   "outputs": [
    {
     "name": "stdout",
     "output_type": "stream",
     "text": [
      "Shape of X_train :  (11, 550)\n",
      "Shape of Y_train :  (1, 550)\n",
      "Shape of X_val :  (11, 184)\n",
      "Shape of Y_val :  (1, 184)\n",
      "Shape of X_test :  (11, 184)\n",
      "Shape of Y_test :  (1, 184)\n"
     ]
    }
   ],
   "source": [
    "X_train = X_train.T                                               # Taking Transpose of the Training Features\n",
    "Y_train = Y_train.reshape(1, X_train.shape[1])                    # Reshaping Training Labels \n",
    "print(\"Shape of X_train : \", X_train.shape)\n",
    "print(\"Shape of Y_train : \", Y_train.shape)\n",
    "\n",
    "X_val = X_val.T                                                   # Taking Transpose of the Cross Validation Features\n",
    "Y_val = Y_val.reshape(1, X_val.shape[1])                          # Reshaping Cross Validation Labels \n",
    "print(\"Shape of X_val : \", X_val.shape)\n",
    "print(\"Shape of Y_val : \", Y_val.shape)\n",
    "\n",
    "X_test = X_test.T                                                 # Taking Transpose of the Testing Features\n",
    "Y_test = Y_test.reshape(1, X_test.shape[1])                       # Reshaping Testing Labels \n",
    "print(\"Shape of X_test : \", X_test.shape)\n",
    "print(\"Shape of Y_test : \", Y_test.shape)"
   ]
  },
  {
   "cell_type": "markdown",
   "id": "828888c6",
   "metadata": {},
   "source": [
    "## Sigmoid Function"
   ]
  },
  {
   "cell_type": "code",
   "execution_count": 10,
   "id": "11523fde",
   "metadata": {},
   "outputs": [],
   "source": [
    "def sigmoid(x):\n",
    "    '''\n",
    "    This fucntion creates a Sigmoid Funtion on given features and features.\n",
    "    The model takes the following arguments:\n",
    "    \n",
    "    X (numpy array): Input data\n",
    "    \n",
    "    returns:\n",
    "    Sigmoid Function\n",
    "    '''\n",
    "    x = x.astype('float64')\n",
    "    return 1/(1 + np.exp(-x))"
   ]
  },
  {
   "cell_type": "markdown",
   "id": "0ebc8334",
   "metadata": {},
   "source": [
    "## Logistic Regression Model"
   ]
  },
  {
   "cell_type": "code",
   "execution_count": 35,
   "id": "2574a994",
   "metadata": {},
   "outputs": [],
   "source": [
    "def model(X, Y, X_val, Y_val, learning_rate, iterations, lamda, verbose = True):\n",
    "    '''\n",
    "    This fucntion creates a model and trains it on the supplied dataset using the\n",
    "    provided learning rate and regularization for a given number of iterations.\n",
    "    The model takes the following arguments:\n",
    "    \n",
    "    X (numpy array): Input dataset\n",
    "    Y (numpy array): Actual labels\n",
    "    learning_rate (float): 0.001\n",
    "    iterations (int): 30000\n",
    "    lamda (float): [0, 0.01, 0.1, 1, 10]\n",
    "    \n",
    "    returns:\n",
    "    W (numpy array): The weights of the model\n",
    "    B (numpy array): The Bias value of the model\n",
    "    cost_list (list): list of all the cost values for the given iterations\n",
    "    '''\n",
    "    \n",
    "    m = X.shape[1]                                           # Number of Training Examples\n",
    "    n = X.shape[0]                                           # Number of Training Features \n",
    "    \n",
    "    m_val = X_val.shape[1]                                   # Number of Cross Validation Examples\n",
    "    n_val = X_val.shape[0]                                   # Number of cross Validation Features \n",
    "    \n",
    "    W = np.zeros((n,1))                                      # Intiallizing wieghts to zero\n",
    "    B = 0                                                    # Initiallizing bias to zero\n",
    "    \n",
    "    train_cost_list = []                                     # Initialling Cost Function List as empty\n",
    "    val_cost_list = []                                       # Initialling Validation Cost Function List as empty\n",
    "    \n",
    "    for i in range(iterations):\n",
    "        \n",
    "        Z = np.dot(W.T, X) + B                               # Function for Training Set \n",
    "        h = sigmoid(Z)                                       # Implementing Sigmoid Funtion on the Hypothesis Model\n",
    "        \n",
    "        Z_val = np.dot(W.T, X_val) + B                       # Function for Validation Set\n",
    "        h_val = sigmoid(Z_val)                               # Implementing Sigmoid Funtion on the Hypothesis Model\n",
    "        \n",
    "        # Cost Function\n",
    "        cost = (-(1 / m) * np.sum(Y * np.log(h) + (1 - Y) * np.log(1 - h))) + ((lamda / (2 * m)) * np.sum(W**2))\n",
    "\n",
    "        # Training Error Estimation\n",
    "        cost_train = (-(1 / m) * np.sum(Y * np.log(h) + (1 - Y) * np.log(1 - h)))\n",
    "        \n",
    "        # Validation Error Estimation \n",
    "        cost_val = (-(1 / m_val) * np.sum(Y_val * np.log(h_val) + (1 - Y_val) * np.log(1 - h_val)))\n",
    "        \n",
    "        # Gradient Descent\n",
    "        dW = (1 / m) * np.dot(h - Y, X.T)\n",
    "        dB = (1 / m) * np.sum(h - Y)\n",
    "        \n",
    "        # Updating Weights and Bias Parameters\n",
    "        W = W - learning_rate * (dW.T + ((lamda / m) * W))    # Applying Regularization\n",
    "        B = B - learning_rate * dB\n",
    "        \n",
    "        # Keeping track of our cost function values\n",
    "        train_cost_list.append(cost_train)                    # Stacking all train costs in a list\n",
    "        val_cost_list.append(cost_val)                        # Stacking all validation costs in a list\n",
    "\n",
    "        \n",
    "        if(i%(iterations/10) == 0):\n",
    "            print(\"val cost after \", i , \"iteration is : \", cost_val)\n",
    "            \n",
    "        if verbose:\n",
    "            if(i%(iterations/10) == 0):\n",
    "                print(\"cost after \", i , \"iteration is : \", train_cost)\n",
    "                h[h>0.5] = 1\n",
    "                h[h<=0.5] = 0\n",
    "                print(\"Accuracy:\", ((h == Y).sum())/Y.shape[1])\n",
    "                print(\"Weight afters\", i , \"iteration is : \", W)\n",
    "        \n",
    "    return W, B, train_cost_list, val_cost_list"
   ]
  },
  {
   "cell_type": "markdown",
   "id": "2bab14ed",
   "metadata": {},
   "source": [
    "## Model Training Implementation on Training Dataset"
   ]
  },
  {
   "cell_type": "code",
   "execution_count": 36,
   "id": "1ad2fe34",
   "metadata": {
    "scrolled": true
   },
   "outputs": [
    {
     "name": "stdout",
     "output_type": "stream",
     "text": [
      "val cost after  0 iteration is :  0.6931471805599453\n",
      "val cost after  1000 iteration is :  0.36768443875208334\n",
      "val cost after  2000 iteration is :  0.3613561968943372\n",
      "val cost after  3000 iteration is :  0.35914582158699915\n",
      "val cost after  4000 iteration is :  0.35808880539336807\n",
      "val cost after  5000 iteration is :  0.3576036956867511\n",
      "val cost after  6000 iteration is :  0.35743474461342956\n",
      "val cost after  7000 iteration is :  0.3574429922266348\n",
      "val cost after  8000 iteration is :  0.35754901667042066\n",
      "val cost after  9000 iteration is :  0.357706278515928\n",
      "Min Train Cost Error = 0.30851787546987575\n",
      "Min Validation Error = 0.3574221820590696\n"
     ]
    },
    {
     "data": {
      "image/png": "[encoded data removed]",
      "text/plain": [
       "<Figure size 720x360 with 1 Axes>"
      ]
     },
     "metadata": {
      "needs_background": "light"
     },
     "output_type": "display_data"
    }
   ],
   "source": [
    "iterations = 10000                                              # Number of times the Model will run to optimize parameters\n",
    "learning_rate = 0.03                                           # Alpha is the step frequency for Gradient Descent\n",
    "lamda = 0.1                                                    # Regularization Parameter\n",
    "polynomial = 2                                                 # 2nd Degree Polynomial Model\n",
    "\n",
    "train_X = X_train.copy()                                       # Make a copy of Training Features and Assign it to the variable                                       \n",
    "val_X = X_val.copy()                                           # Make a copy of Validation Features and Assign it to the variable\n",
    "        \n",
    "train_X = np.append(train_X, X_train**polynomial, axis = 0)    # Designing 2nd Degree Polynomial Features for Training Set\n",
    "val_X = np.append(val_X, X_val**polynomial, axis = 0)          # Designing 2nd Degree Polynomial Features for Validation Set\n",
    "\n",
    "\n",
    "## Training the Selected Model on Training Set and retrieving optimized Weights and Bias, also training and validation cost functions \n",
    "W, B, train_cost_list, val_cost_list = model(train_X.astype('float64'), Y_train.astype('float64'), val_X.astype('float64'), Y_val.astype('float64'), learning_rate = learning_rate, iterations = iterations, lamda = lamda, verbose = False)\n",
    "\n",
    "\n",
    "print('Min Train Cost Error = ' + str(np.min(train_cost_list)))      # Determining Minimum Training Cost Error\n",
    "print('Min Validation Error = ' + str(np.min(val_cost_list)))        # Determining Minimum Validation Error\n",
    "\n",
    "\n",
    "plt.figure()\n",
    "plt.title(f\"Training Cost vs Validation Cost\")\n",
    "plt.plot(train_cost_list, label = \"Training Cost\")\n",
    "plt.plot(val_cost_list, label = \"Validation Cost\")\n",
    "plt.xlabel('Iterations')\n",
    "plt.ylabel('Cost Error')\n",
    "plt.legend()\n",
    "plt.show()\n"
   ]
  },
  {
   "cell_type": "markdown",
   "id": "1a96bcd8",
   "metadata": {},
   "source": [
    "## Saving Weights and Bias Parameters for Prediction"
   ]
  },
  {
   "cell_type": "code",
   "execution_count": 29,
   "id": "83d46052",
   "metadata": {},
   "outputs": [],
   "source": [
    "np.save('Weights', W)\n",
    "np.save('Bias', B)"
   ]
  },
  {
   "cell_type": "markdown",
   "id": "cfc8e71c",
   "metadata": {},
   "source": [
    "## Accuracy of the Selected Trained Model"
   ]
  },
  {
   "cell_type": "code",
   "execution_count": 24,
   "id": "8bd2521b",
   "metadata": {
    "scrolled": true
   },
   "outputs": [],
   "source": [
    "def accuracy(X, Y, W, B):\n",
    "    '''\n",
    "    This fucntion tests the trained model that is selected on the basis of minimum cost function. \n",
    "    The model will have have its minimized wieght parameters and optimum regularization parameter. \n",
    "    The model takes the following arguments:\n",
    "    \n",
    "    X (numpy array): Input dataset\n",
    "    Y (numpy array): Actual labels\n",
    "    W (numpy array): Minimized Weights\n",
    "    B (int): Bias\n",
    "    \n",
    "    returns:\n",
    "    Model's Accuracy (float)\n",
    "    '''\n",
    "    m = X.shape[1]                                                 # Number of Dataset Examples\n",
    "    X = np.append(X, X**2, axis = 0)                               # 2nd Degree Polynomial Features\n",
    "\n",
    "    Z = np.dot(W.T, X) + B                                         # Calculation Z\n",
    "    h = sigmoid(Z)                                                 # 2nd Degree Hypothesis Logistic Regression Model\n",
    "    \n",
    "    mean_error = -(1 / m) * (np.sum(Y * np.log(h) + (1 - Y) * np.log(1 - h)))  # Mean Error for Corresponding Dataset\n",
    "    print(\"Error:\", mean_error)\n",
    "    \n",
    "    h[h>=0.5] = 1                                                  # Thresholding where if h >= 0.5, then h = 1\n",
    "    h[h<0.5] = 0                                                   # Thresholding where if h < 0, then h = 0\n",
    "    h = np.array(h, dtype = 'int64')\n",
    "        \n",
    "    acc = (1 - np.sum(np.absolute(h - Y))/Y.shape[1])*100          # Calculating Accuracy of Model on Corresponding Dataset\n",
    "    print(\"Accuracy of the model is : \", round(acc, 2), \"%\")"
   ]
  },
  {
   "cell_type": "code",
   "execution_count": 25,
   "id": "a3863077",
   "metadata": {
    "scrolled": true
   },
   "outputs": [
    {
     "name": "stdout",
     "output_type": "stream",
     "text": [
      "Error: 0.30851748008438473\n",
      "Accuracy of the model is :  88.73 %\n"
     ]
    }
   ],
   "source": [
    "## Testing the Training Dataset on Trained Model and Determining Accuracy \n",
    "accuracy(X_train, Y_train, W, B)"
   ]
  },
  {
   "cell_type": "code",
   "execution_count": 26,
   "id": "1576fb7c",
   "metadata": {},
   "outputs": [
    {
     "name": "stdout",
     "output_type": "stream",
     "text": [
      "Error: 0.3578870170677041\n",
      "Accuracy of the model is :  84.78 %\n"
     ]
    }
   ],
   "source": [
    "## Testing the Validation Dataset on Trained Model and Determining Accuracy\n",
    "accuracy(X_val, Y_val, W, B)"
   ]
  },
  {
   "cell_type": "code",
   "execution_count": 27,
   "id": "5fdbd330",
   "metadata": {},
   "outputs": [
    {
     "name": "stdout",
     "output_type": "stream",
     "text": [
      "Error: 0.3940107419292262\n",
      "Accuracy of the model is :  86.41 %\n"
     ]
    }
   ],
   "source": [
    "## Testing the Test Dataset on Trained Model and Determining Accuracy\n",
    "accuracy(X_test, Y_test, W, B)"
   ]
  },
  {
   "cell_type": "markdown",
   "id": "79974c6e",
   "metadata": {},
   "source": [
    "## Confusion Matrix"
   ]
  },
  {
   "cell_type": "code",
   "execution_count": 30,
   "id": "c8cac2cd",
   "metadata": {},
   "outputs": [],
   "source": [
    "def conf_mat(X, Y):\n",
    "    m = X.shape[1]                                                 # Number of Dataset Examples\n",
    "    X = np.append(X, X**2, axis = 0)                               # 2nd Degree Polynomial Features\n",
    "\n",
    "    Z = np.dot(W.T, X) + B                                         # Calculation Z\n",
    "    h = sigmoid(Z)                                                 # 2nd Degree Hypothesis Logistic Regression Model\n",
    "    \n",
    "    # confusion matrix\n",
    "    conf_arr = [[0, 0], [0, 0]]                                    # 2 x 2 confusion matrix\n",
    "\n",
    "    for i in range(len(h)):\n",
    "        if int(Y[i]) == 1:                                         # if actual label = 1\n",
    "            if float(h[i]) < 0.5:                                  # and if predicted label < 0.5\n",
    "                conf_arr[0][1] = conf_arr[0][1] + 1                # then add 1 to False Negative\n",
    "            else:\n",
    "                conf_arr[0][0] = conf_arr[0][0] + 1                # else add 1 to True Positive\n",
    "        elif int(Y[i]) == 0:                                       # if actual label = 0\n",
    "            if float(prob_arr[i]) >= 0.5:                          # and if predicted label > 0.5                \n",
    "                conf_arr[1][0] = conf_arr[1][0] + 1                # then add 1 to False Positive\n",
    "            else:\n",
    "                conf_arr[1][1] = conf_arr[1][1] + 1                # else add 1 to True Negative\n",
    "\n",
    "    accuracy = float(conf_arr[0][0] + conf_arr[1][1])/(len(input_arr))   # Determining Accuracy\n",
    "    Precision = (conf_arr[0][0]) / (conf_arr[0][0] + conf_arr[1][0])\n",
    "    Recall = (conf_arr[0][0]) / (conf_arr[0][0] + conf_arr[0][1])\n",
    "    F1_Score = 2 * ((Precision * Recall)/(Precision + Recall))\n",
    "    \n",
    "    \n",
    "    print(conf_array)\n",
    "    print(accuracy)\n",
    "    print(Precision)\n",
    "    print(Recall)\n",
    "    Print(F1_Score)\n",
    "    return conf_array, accuracy, Precision, Recall, F1_Score"
   ]
  },
  {
   "cell_type": "code",
   "execution_count": 32,
   "id": "3164b906",
   "metadata": {},
   "outputs": [],
   "source": []
  },
  {
   "cell_type": "code",
   "execution_count": null,
   "id": "275797b7",
   "metadata": {},
   "outputs": [],
   "source": []
  }
 ],
 "metadata": {
  "kernelspec": {
   "display_name": "Python 3",
   "language": "python",
   "name": "python3"
  },
  "language_info": {
   "codemirror_mode": {
    "name": "ipython",
    "version": 3
   },
   "file_extension": ".py",
   "mimetype": "text/x-python",
   "name": "python",
   "nbconvert_exporter": "python",
   "pygments_lexer": "ipython3",
   "version": "3.8.8"
  }
 },
 "nbformat": 4,
 "nbformat_minor": 5
}
