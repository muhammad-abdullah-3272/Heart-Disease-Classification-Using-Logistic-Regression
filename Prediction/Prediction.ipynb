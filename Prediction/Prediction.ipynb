{
 "cells": [
  {
   "cell_type": "markdown",
   "id": "69593fbc",
   "metadata": {},
   "source": [
    "## PREDICTION FUNCTION FOR CLASSIFICATION OF HEART DISEASE"
   ]
  },
  {
   "cell_type": "code",
   "execution_count": 14,
   "id": "90f19a69",
   "metadata": {
    "scrolled": true
   },
   "outputs": [
    {
     "name": "stdout",
     "output_type": "stream",
     "text": [
      "Enter data for  Age  in terms of  28-77\n",
      "34\n",
      "Enter data for  Sex  in terms of  F/M as 0/1\n",
      "1\n",
      "Enter data for  ChestPainType  in terms of  ATA/NAP/ASY/TA as 0/1/2/3\n",
      "0\n",
      "Enter data for  RestingBP  in terms of  0-200\n",
      "66\n",
      "Enter data for  Cholesterol  in terms of  0-603\n",
      "564\n",
      "Enter data for  FastingBS  in terms of  0/1\n",
      "1\n",
      "Enter data for  RestingECG  in terms of  Normal/ST/LVH as 0/1/2\n",
      "0\n",
      "Enter data for  MaxHR  in terms of  60-202\n",
      "99\n",
      "Enter data for  ExerciseAngina  in terms of  N/Y as 0/1\n",
      "1\n",
      "Enter data for  Oldpeak  in terms of  -2.6-6.2\n",
      "3\n",
      "Enter data for  ST_Slope  in terms of  Up/Flat/Down as 0/1/2\n",
      "1\n",
      "Prediction =  [1.] . The particular patient is suffering from Heart Disease\n"
     ]
    }
   ],
   "source": [
    "## Importing Necessary Libraries\n",
    "import numpy as np\n",
    "\n",
    "## Loading Weights and Bias Parameters saved from Training Model \n",
    "W = np.load('Weights.npy')\n",
    "B = np.load('Bias.npy')\n",
    "\n",
    "## Loading the Max and Min values for each feature in the Dataset\n",
    "Max = np.load('Max.npy')\n",
    "Min = np.load('Min.npy')\n",
    "\n",
    "features = []                                             # Intializing array for new features (User Input)\n",
    "\n",
    "feature_name = [\"Age\", \"Sex\", \"ChestPainType\", \"RestingBP\", \"Cholesterol\", \"FastingBS\", \"RestingECG\", \"MaxHR\", \n",
    "          \"ExerciseAngina\", \"Oldpeak\", \"ST_Slope\"]  \n",
    "data_type = [\"28-77\", \"F/M as 0/1\", \"ATA/NAP/ASY/TA as 0/1/2/3\", \"0-200\", \"0-603\", \"0/1\", \"Normal/ST/LVH as 0/1/2\", \"60-202\", \"N/Y as 0/1\", \"-2.6-6.2\", \"Up/Flat/Down as 0/1/2\"]\n",
    "\n",
    "for i in range(11):\n",
    "    print(\"Enter data for \", feature_name[i], \" in terms of \", data_type[i])\n",
    "    feature = float(input(\"\"))                            # User Infup as float datatype\n",
    "    features.append(feature)                              # Appending all features entered by the user\n",
    "    if features[i] > Max[i]:                              # If user input for corresponding feature is max than the max value of feature in data set \n",
    "        Max[i] = features[i]                              # Then consider the user input as max value for that corresponding feature\n",
    "    elif features[i] < Min[i]:                            # If user input for corresponding feature is min than the min value of feature in data set\n",
    "        Min[i] = features[i]                              # Then consider the user input as min value for that corresponding feature\n",
    "\n",
    "\n",
    "def sigmoid(x):\n",
    "    '''\n",
    "    This fucntion creates a Sigmoid Funtion on given features and features.\n",
    "    The model takes the following arguments:\n",
    "    \n",
    "    X (numpy array): Input data float64\n",
    "    \n",
    "    returns:\n",
    "    Sigmoid Function\n",
    "    '''\n",
    "    x = x.astype('float64')\n",
    "    return 1/(1 + np.exp(-x))\n",
    "\n",
    "\n",
    "def Scale(features):\n",
    "    '''\n",
    "    This fucntion performs data scaling from -1 to 1 using min-max critera.\n",
    "    The model takes the following arguments:\n",
    "    \n",
    "    features (numpy array): User Input\n",
    "    \n",
    "    returns:\n",
    "    Scaled Features (numpy array)\n",
    "    '''\n",
    "    scaled_data = []\n",
    "    for i in range(11):\n",
    "        data_Scale = 2*((features[i] - Min[i]) / (Max[i] - Min[i])) - 1      # Feature Scaling from -1 to 1       \n",
    "        scaled_data.append(data_Scale)\n",
    "    return np.array(scaled_data)\n",
    "\n",
    "features = Scale(features)                                     # Calling the scaling function to scale user input features\n",
    "X = np.append(features, features**2, axis = 0)                 # 2nd Degree Polynomial Features\n",
    "\n",
    "Z = (np.dot(W.T, X) + B)                                       \n",
    "h = sigmoid(Z)                                                 # Proposed Logistic Regression Hypothesis Model\n",
    "\n",
    "h[h>=0.5] = 1                                                  # Thresholding where if h >= 0.5, then h = 1\n",
    "h[h<0.5] = 0                                                   # Thresholding where if h < 0, then h = 0\n",
    "\n",
    "if h==1:\n",
    "    print(\"Prediction = \", h, \". The particular patient is suffering from Heart Disease\")\n",
    "elif h == 0:\n",
    "    print(\"Prediction = \", h, \". The particular patient is not suffering from Heart Disease\")"
   ]
  },
  {
   "cell_type": "code",
   "execution_count": null,
   "id": "382e2b61",
   "metadata": {},
   "outputs": [],
   "source": []
  },
  {
   "cell_type": "code",
   "execution_count": null,
   "id": "7b803f38",
   "metadata": {},
   "outputs": [],
   "source": []
  }
 ],
 "metadata": {
  "kernelspec": {
   "display_name": "Python 3",
   "language": "python",
   "name": "python3"
  },
  "language_info": {
   "codemirror_mode": {
    "name": "ipython",
    "version": 3
   },
   "file_extension": ".py",
   "mimetype": "text/x-python",
   "name": "python",
   "nbconvert_exporter": "python",
   "pygments_lexer": "ipython3",
   "version": "3.8.8"
  }
 },
 "nbformat": 4,
 "nbformat_minor": 5
}
