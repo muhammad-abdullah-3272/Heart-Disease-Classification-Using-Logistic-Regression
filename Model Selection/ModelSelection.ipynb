{
 "cells": [
  {
   "cell_type": "markdown",
   "id": "5d581573",
   "metadata": {},
   "source": [
    "## CLASSIFICATION OF HEART DISEASE USING LOGISTIC REGRESSION MODEL\n"
   ]
  },
  {
   "cell_type": "code",
   "execution_count": 1,
   "id": "33cf5890",
   "metadata": {},
   "outputs": [],
   "source": [
    "## Importing Necessary Libraries\n",
    "import numpy as np\n",
    "import pandas as pd\n",
    "import seaborn as sns\n",
    "import matplotlib.pyplot as plt\n",
    "\n",
    "plt.rcParams['figure.figsize'] = (10.0, 5.0)"
   ]
  },
  {
   "cell_type": "code",
   "execution_count": 2,
   "id": "6a516bf4",
   "metadata": {
    "scrolled": true
   },
   "outputs": [
    {
     "name": "stdout",
     "output_type": "stream",
     "text": [
      "(918, 12)\n"
     ]
    },
    {
     "data": {
      "text/html": [
       "<div>\n",
       "<style scoped>\n",
       "    .dataframe tbody tr th:only-of-type {\n",
       "        vertical-align: middle;\n",
       "    }\n",
       "\n",
       "    .dataframe tbody tr th {\n",
       "        vertical-align: top;\n",
       "    }\n",
       "\n",
       "    .dataframe thead th {\n",
       "        text-align: right;\n",
       "    }\n",
       "</style>\n",
       "<table border=\"1\" class=\"dataframe\">\n",
       "  <thead>\n",
       "    <tr style=\"text-align: right;\">\n",
       "      <th></th>\n",
       "      <th>Age</th>\n",
       "      <th>Sex</th>\n",
       "      <th>ChestPainType</th>\n",
       "      <th>RestingBP</th>\n",
       "      <th>Cholesterol</th>\n",
       "      <th>FastingBS</th>\n",
       "      <th>RestingECG</th>\n",
       "      <th>MaxHR</th>\n",
       "      <th>ExerciseAngina</th>\n",
       "      <th>Oldpeak</th>\n",
       "      <th>ST_Slope</th>\n",
       "      <th>HeartDisease</th>\n",
       "    </tr>\n",
       "  </thead>\n",
       "  <tbody>\n",
       "    <tr>\n",
       "      <th>0</th>\n",
       "      <td>40</td>\n",
       "      <td>M</td>\n",
       "      <td>ATA</td>\n",
       "      <td>140</td>\n",
       "      <td>289</td>\n",
       "      <td>0</td>\n",
       "      <td>Normal</td>\n",
       "      <td>172</td>\n",
       "      <td>N</td>\n",
       "      <td>0.0</td>\n",
       "      <td>Up</td>\n",
       "      <td>0</td>\n",
       "    </tr>\n",
       "    <tr>\n",
       "      <th>1</th>\n",
       "      <td>49</td>\n",
       "      <td>F</td>\n",
       "      <td>NAP</td>\n",
       "      <td>160</td>\n",
       "      <td>180</td>\n",
       "      <td>0</td>\n",
       "      <td>Normal</td>\n",
       "      <td>156</td>\n",
       "      <td>N</td>\n",
       "      <td>1.0</td>\n",
       "      <td>Flat</td>\n",
       "      <td>1</td>\n",
       "    </tr>\n",
       "    <tr>\n",
       "      <th>2</th>\n",
       "      <td>37</td>\n",
       "      <td>M</td>\n",
       "      <td>ATA</td>\n",
       "      <td>130</td>\n",
       "      <td>283</td>\n",
       "      <td>0</td>\n",
       "      <td>ST</td>\n",
       "      <td>98</td>\n",
       "      <td>N</td>\n",
       "      <td>0.0</td>\n",
       "      <td>Up</td>\n",
       "      <td>0</td>\n",
       "    </tr>\n",
       "    <tr>\n",
       "      <th>3</th>\n",
       "      <td>48</td>\n",
       "      <td>F</td>\n",
       "      <td>ASY</td>\n",
       "      <td>138</td>\n",
       "      <td>214</td>\n",
       "      <td>0</td>\n",
       "      <td>Normal</td>\n",
       "      <td>108</td>\n",
       "      <td>Y</td>\n",
       "      <td>1.5</td>\n",
       "      <td>Flat</td>\n",
       "      <td>1</td>\n",
       "    </tr>\n",
       "    <tr>\n",
       "      <th>4</th>\n",
       "      <td>54</td>\n",
       "      <td>M</td>\n",
       "      <td>NAP</td>\n",
       "      <td>150</td>\n",
       "      <td>195</td>\n",
       "      <td>0</td>\n",
       "      <td>Normal</td>\n",
       "      <td>122</td>\n",
       "      <td>N</td>\n",
       "      <td>0.0</td>\n",
       "      <td>Up</td>\n",
       "      <td>0</td>\n",
       "    </tr>\n",
       "  </tbody>\n",
       "</table>\n",
       "</div>"
      ],
      "text/plain": [
       "   Age Sex ChestPainType  RestingBP  Cholesterol  FastingBS RestingECG  MaxHR  \\\n",
       "0   40   M           ATA        140          289          0     Normal    172   \n",
       "1   49   F           NAP        160          180          0     Normal    156   \n",
       "2   37   M           ATA        130          283          0         ST     98   \n",
       "3   48   F           ASY        138          214          0     Normal    108   \n",
       "4   54   M           NAP        150          195          0     Normal    122   \n",
       "\n",
       "  ExerciseAngina  Oldpeak ST_Slope  HeartDisease  \n",
       "0              N      0.0       Up             0  \n",
       "1              N      1.0     Flat             1  \n",
       "2              N      0.0       Up             0  \n",
       "3              Y      1.5     Flat             1  \n",
       "4              N      0.0       Up             0  "
      ]
     },
     "execution_count": 2,
     "metadata": {},
     "output_type": "execute_result"
    }
   ],
   "source": [
    "## Reading the Dataset \n",
    "data = pd.read_csv('heart.csv', encoding='unicode_escape')\n",
    "print(data.shape)\n",
    "data.head()"
   ]
  },
  {
   "cell_type": "markdown",
   "id": "43115f44",
   "metadata": {},
   "source": [
    "## Data Analysis"
   ]
  },
  {
   "cell_type": "code",
   "execution_count": 3,
   "id": "2071485a",
   "metadata": {
    "scrolled": true
   },
   "outputs": [
    {
     "name": "stdout",
     "output_type": "stream",
     "text": [
      "<class 'pandas.core.frame.DataFrame'>\n",
      "RangeIndex: 918 entries, 0 to 917\n",
      "Data columns (total 12 columns):\n",
      " #   Column          Non-Null Count  Dtype  \n",
      "---  ------          --------------  -----  \n",
      " 0   Age             918 non-null    int64  \n",
      " 1   Sex             918 non-null    object \n",
      " 2   ChestPainType   918 non-null    object \n",
      " 3   RestingBP       918 non-null    int64  \n",
      " 4   Cholesterol     918 non-null    int64  \n",
      " 5   FastingBS       918 non-null    int64  \n",
      " 6   RestingECG      918 non-null    object \n",
      " 7   MaxHR           918 non-null    int64  \n",
      " 8   ExerciseAngina  918 non-null    object \n",
      " 9   Oldpeak         918 non-null    float64\n",
      " 10  ST_Slope        918 non-null    object \n",
      " 11  HeartDisease    918 non-null    int64  \n",
      "dtypes: float64(1), int64(6), object(5)\n",
      "memory usage: 86.2+ KB\n"
     ]
    }
   ],
   "source": [
    "data.info()"
   ]
  },
  {
   "cell_type": "code",
   "execution_count": 4,
   "id": "387bfaa2",
   "metadata": {},
   "outputs": [
    {
     "data": {
      "text/plain": [
       "<AxesSubplot:xlabel='HeartDisease', ylabel='count'>"
      ]
     },
     "execution_count": 4,
     "metadata": {},
     "output_type": "execute_result"
    },
    {
     "data": {
      "image/png": "[encoded data removed]",
      "text/plain": [
       "<Figure size 720x360 with 1 Axes>"
      ]
     },
     "metadata": {
      "needs_background": "light"
     },
     "output_type": "display_data"
    }
   ],
   "source": [
    "sns.countplot(x = \"HeartDisease\", data = data)                       # Plot for analyzing heart disease in the data"
   ]
  },
  {
   "cell_type": "code",
   "execution_count": 5,
   "id": "4ec9a093",
   "metadata": {},
   "outputs": [
    {
     "data": {
      "text/plain": [
       "<AxesSubplot:xlabel='HeartDisease', ylabel='count'>"
      ]
     },
     "execution_count": 5,
     "metadata": {},
     "output_type": "execute_result"
    },
    {
     "data": {
      "image/png": "[encoded data removed]",
      "text/plain": [
       "<Figure size 720x360 with 1 Axes>"
      ]
     },
     "metadata": {
      "needs_background": "light"
     },
     "output_type": "display_data"
    }
   ],
   "source": [
    "sns.countplot(x = \"HeartDisease\", hue = \"Sex\", data = data)        # Plot for analyzing heart disease in males and females"
   ]
  },
  {
   "cell_type": "code",
   "execution_count": 6,
   "id": "71be6172",
   "metadata": {},
   "outputs": [
    {
     "data": {
      "text/plain": [
       "<AxesSubplot:ylabel='Frequency'>"
      ]
     },
     "execution_count": 6,
     "metadata": {},
     "output_type": "execute_result"
    },
    {
     "data": {
      "image/png": "[encoded data removed]",
      "text/plain": [
       "<Figure size 720x360 with 1 Axes>"
      ]
     },
     "metadata": {
      "needs_background": "light"
     },
     "output_type": "display_data"
    }
   ],
   "source": [
    "data[\"Age\"].plot.hist()                                              # Plot for analyzing patient's ages in the data"
   ]
  },
  {
   "cell_type": "markdown",
   "id": "87cedce5",
   "metadata": {},
   "source": [
    "## DATA WRANGLING "
   ]
  },
  {
   "cell_type": "code",
   "execution_count": 7,
   "id": "e2ea647d",
   "metadata": {
    "scrolled": true
   },
   "outputs": [
    {
     "data": {
      "text/plain": [
       "Age               0\n",
       "Sex               0\n",
       "ChestPainType     0\n",
       "RestingBP         0\n",
       "Cholesterol       0\n",
       "FastingBS         0\n",
       "RestingECG        0\n",
       "MaxHR             0\n",
       "ExerciseAngina    0\n",
       "Oldpeak           0\n",
       "ST_Slope          0\n",
       "HeartDisease      0\n",
       "dtype: int64"
      ]
     },
     "execution_count": 7,
     "metadata": {},
     "output_type": "execute_result"
    }
   ],
   "source": [
    "data.isnull().sum()                                                 # To check wether the data contains any null values\n",
    "#sns.heatmap(data.isnull(), yticklabels = False)"
   ]
  },
  {
   "cell_type": "markdown",
   "id": "5c44190e",
   "metadata": {},
   "source": [
    "## String Data Conversion to Int"
   ]
  },
  {
   "cell_type": "code",
   "execution_count": 8,
   "id": "61e1cb74",
   "metadata": {},
   "outputs": [],
   "source": [
    "def dataReplace(data):\n",
    "    '''\n",
    "    This fucntion converts string data type to int data type.\n",
    "    The model takes the following arguments:\n",
    "    \n",
    "    Data (Features containing String data type)\n",
    "    \n",
    "    returns:\n",
    "    Data (Features converted to Int data type)\n",
    "    '''\n",
    "    \n",
    "    data['Sex'][data['Sex'] == 'F'] = 0                                    # Replace F with 0\n",
    "    data['Sex'][data['Sex'] == 'M'] = 1                                    # Replace M with 1\n",
    "\n",
    "    data['ChestPainType'][data['ChestPainType'] == 'ATA'] = 0              # Replace ATA with 0\n",
    "    data['ChestPainType'][data['ChestPainType'] == 'NAP'] = 1              # Replace NAP with 1\n",
    "    data['ChestPainType'][data['ChestPainType'] == 'ASY'] = 2              # Replace ASY with 2\n",
    "    data['ChestPainType'][data['ChestPainType'] == 'TA'] = 3               # Replace TA with 3\n",
    "\n",
    "    data['RestingECG'][data['RestingECG'] == 'Normal'] = 0                 # Replace Normal with 0\n",
    "    data['RestingECG'][data['RestingECG'] == 'ST'] = 1                     # Replace ST with 1\n",
    "    data['RestingECG'][data['RestingECG'] == 'LVH'] = 2                    # Replace LVH with 2\n",
    "\n",
    "    data['ExerciseAngina'][data['ExerciseAngina'] == 'N'] = 0              # Replace N with 0\n",
    "    data['ExerciseAngina'][data['ExerciseAngina'] == 'Y'] = 1              # Replace Y with 1\n",
    "\n",
    "    data['ST_Slope'][data['ST_Slope'] == 'Up'] = 0                         # Replace Up with 0\n",
    "    data['ST_Slope'][data['ST_Slope'] == 'Flat'] = 1                       # Replace Flat with 1\n",
    "    data['ST_Slope'][data['ST_Slope'] == 'Down'] = 2                       # Replace Down with 2\n",
    "\n",
    "    return data"
   ]
  },
  {
   "cell_type": "markdown",
   "id": "de70b488",
   "metadata": {},
   "source": [
    "## Feature Scaling"
   ]
  },
  {
   "cell_type": "code",
   "execution_count": 9,
   "id": "817a0b8d",
   "metadata": {},
   "outputs": [],
   "source": [
    "def scale(data):\n",
    "    '''\n",
    "    This fucntion performs data scaling from -1 to 1 using min-max critera.\n",
    "    The model takes the following arguments:\n",
    "    \n",
    "    Data (numpy array): Input dataset\n",
    "    \n",
    "    returns:\n",
    "    Scaled Data (numpy array)\n",
    "    '''\n",
    "    \n",
    "    dataScale = 2*((data - data.min()) / (data.max() - data.min())) - 1    # Feature Scaling from -1 to 1\n",
    "    dataScale['HeartDisease'] = data['HeartDisease']                       # Not applying Scaling on Y\n",
    "    return dataScale"
   ]
  },
  {
   "cell_type": "markdown",
   "id": "4966a517",
   "metadata": {},
   "source": [
    "## Dataset Splitting"
   ]
  },
  {
   "cell_type": "code",
   "execution_count": 10,
   "id": "e1c0e1fd",
   "metadata": {},
   "outputs": [
    {
     "name": "stdout",
     "output_type": "stream",
     "text": [
      "(550, 12)\n",
      "(184, 12)\n",
      "(184, 12)\n"
     ]
    },
    {
     "name": "stderr",
     "output_type": "stream",
     "text": [
      "<ipython-input-8-41c5cb290b52>:12: SettingWithCopyWarning: \n",
      "A value is trying to be set on a copy of a slice from a DataFrame\n",
      "\n",
      "See the caveats in the documentation: https://pandas.pydata.org/pandas-docs/stable/user_guide/indexing.html#returning-a-view-versus-a-copy\n",
      "  data['Sex'][data['Sex'] == 'F'] = 0                                    # Replace F with 0\n",
      "<ipython-input-8-41c5cb290b52>:13: SettingWithCopyWarning: \n",
      "A value is trying to be set on a copy of a slice from a DataFrame\n",
      "\n",
      "See the caveats in the documentation: https://pandas.pydata.org/pandas-docs/stable/user_guide/indexing.html#returning-a-view-versus-a-copy\n",
      "  data['Sex'][data['Sex'] == 'M'] = 1                                    # Replace M with 1\n",
      "<ipython-input-8-41c5cb290b52>:15: SettingWithCopyWarning: \n",
      "A value is trying to be set on a copy of a slice from a DataFrame\n",
      "\n",
      "See the caveats in the documentation: https://pandas.pydata.org/pandas-docs/stable/user_guide/indexing.html#returning-a-view-versus-a-copy\n",
      "  data['ChestPainType'][data['ChestPainType'] == 'ATA'] = 0              # Replace ATA with 0\n",
      "<ipython-input-8-41c5cb290b52>:16: SettingWithCopyWarning: \n",
      "A value is trying to be set on a copy of a slice from a DataFrame\n",
      "\n",
      "See the caveats in the documentation: https://pandas.pydata.org/pandas-docs/stable/user_guide/indexing.html#returning-a-view-versus-a-copy\n",
      "  data['ChestPainType'][data['ChestPainType'] == 'NAP'] = 1              # Replace NAP with 1\n",
      "<ipython-input-8-41c5cb290b52>:17: SettingWithCopyWarning: \n",
      "A value is trying to be set on a copy of a slice from a DataFrame\n",
      "\n",
      "See the caveats in the documentation: https://pandas.pydata.org/pandas-docs/stable/user_guide/indexing.html#returning-a-view-versus-a-copy\n",
      "  data['ChestPainType'][data['ChestPainType'] == 'ASY'] = 2              # Replace ASY with 2\n",
      "<ipython-input-8-41c5cb290b52>:18: SettingWithCopyWarning: \n",
      "A value is trying to be set on a copy of a slice from a DataFrame\n",
      "\n",
      "See the caveats in the documentation: https://pandas.pydata.org/pandas-docs/stable/user_guide/indexing.html#returning-a-view-versus-a-copy\n",
      "  data['ChestPainType'][data['ChestPainType'] == 'TA'] = 3               # Replace TA with 3\n",
      "<ipython-input-8-41c5cb290b52>:20: SettingWithCopyWarning: \n",
      "A value is trying to be set on a copy of a slice from a DataFrame\n",
      "\n",
      "See the caveats in the documentation: https://pandas.pydata.org/pandas-docs/stable/user_guide/indexing.html#returning-a-view-versus-a-copy\n",
      "  data['RestingECG'][data['RestingECG'] == 'Normal'] = 0                 # Replace Normal with 0\n",
      "<ipython-input-8-41c5cb290b52>:21: SettingWithCopyWarning: \n",
      "A value is trying to be set on a copy of a slice from a DataFrame\n",
      "\n",
      "See the caveats in the documentation: https://pandas.pydata.org/pandas-docs/stable/user_guide/indexing.html#returning-a-view-versus-a-copy\n",
      "  data['RestingECG'][data['RestingECG'] == 'ST'] = 1                     # Replace ST with 1\n",
      "<ipython-input-8-41c5cb290b52>:22: SettingWithCopyWarning: \n",
      "A value is trying to be set on a copy of a slice from a DataFrame\n",
      "\n",
      "See the caveats in the documentation: https://pandas.pydata.org/pandas-docs/stable/user_guide/indexing.html#returning-a-view-versus-a-copy\n",
      "  data['RestingECG'][data['RestingECG'] == 'LVH'] = 2                    # Replace LVH with 2\n",
      "<ipython-input-8-41c5cb290b52>:24: SettingWithCopyWarning: \n",
      "A value is trying to be set on a copy of a slice from a DataFrame\n",
      "\n",
      "See the caveats in the documentation: https://pandas.pydata.org/pandas-docs/stable/user_guide/indexing.html#returning-a-view-versus-a-copy\n",
      "  data['ExerciseAngina'][data['ExerciseAngina'] == 'N'] = 0              # Replace N with 0\n",
      "<ipython-input-8-41c5cb290b52>:25: SettingWithCopyWarning: \n",
      "A value is trying to be set on a copy of a slice from a DataFrame\n",
      "\n",
      "See the caveats in the documentation: https://pandas.pydata.org/pandas-docs/stable/user_guide/indexing.html#returning-a-view-versus-a-copy\n",
      "  data['ExerciseAngina'][data['ExerciseAngina'] == 'Y'] = 1              # Replace Y with 1\n",
      "<ipython-input-8-41c5cb290b52>:27: SettingWithCopyWarning: \n",
      "A value is trying to be set on a copy of a slice from a DataFrame\n",
      "\n",
      "See the caveats in the documentation: https://pandas.pydata.org/pandas-docs/stable/user_guide/indexing.html#returning-a-view-versus-a-copy\n",
      "  data['ST_Slope'][data['ST_Slope'] == 'Up'] = 0                         # Replace Up with 0\n",
      "<ipython-input-8-41c5cb290b52>:28: SettingWithCopyWarning: \n",
      "A value is trying to be set on a copy of a slice from a DataFrame\n",
      "\n",
      "See the caveats in the documentation: https://pandas.pydata.org/pandas-docs/stable/user_guide/indexing.html#returning-a-view-versus-a-copy\n",
      "  data['ST_Slope'][data['ST_Slope'] == 'Flat'] = 1                       # Replace Flat with 1\n",
      "<ipython-input-8-41c5cb290b52>:29: SettingWithCopyWarning: \n",
      "A value is trying to be set on a copy of a slice from a DataFrame\n",
      "\n",
      "See the caveats in the documentation: https://pandas.pydata.org/pandas-docs/stable/user_guide/indexing.html#returning-a-view-versus-a-copy\n",
      "  data['ST_Slope'][data['ST_Slope'] == 'Down'] = 2                       # Replace Down with 2\n"
     ]
    },
    {
     "data": {
      "text/html": [
       "<div>\n",
       "<style scoped>\n",
       "    .dataframe tbody tr th:only-of-type {\n",
       "        vertical-align: middle;\n",
       "    }\n",
       "\n",
       "    .dataframe tbody tr th {\n",
       "        vertical-align: top;\n",
       "    }\n",
       "\n",
       "    .dataframe thead th {\n",
       "        text-align: right;\n",
       "    }\n",
       "</style>\n",
       "<table border=\"1\" class=\"dataframe\">\n",
       "  <thead>\n",
       "    <tr style=\"text-align: right;\">\n",
       "      <th></th>\n",
       "      <th>Age</th>\n",
       "      <th>Sex</th>\n",
       "      <th>ChestPainType</th>\n",
       "      <th>RestingBP</th>\n",
       "      <th>Cholesterol</th>\n",
       "      <th>FastingBS</th>\n",
       "      <th>RestingECG</th>\n",
       "      <th>MaxHR</th>\n",
       "      <th>ExerciseAngina</th>\n",
       "      <th>Oldpeak</th>\n",
       "      <th>ST_Slope</th>\n",
       "      <th>HeartDisease</th>\n",
       "    </tr>\n",
       "  </thead>\n",
       "  <tbody>\n",
       "    <tr>\n",
       "      <th>0</th>\n",
       "      <td>-0.510204</td>\n",
       "      <td>1.0</td>\n",
       "      <td>-1.0</td>\n",
       "      <td>0.4</td>\n",
       "      <td>-0.041459</td>\n",
       "      <td>-1.0</td>\n",
       "      <td>-1.0</td>\n",
       "      <td>0.577465</td>\n",
       "      <td>-1.0</td>\n",
       "      <td>-0.409091</td>\n",
       "      <td>-1.0</td>\n",
       "      <td>0</td>\n",
       "    </tr>\n",
       "    <tr>\n",
       "      <th>1</th>\n",
       "      <td>-0.142857</td>\n",
       "      <td>-1.0</td>\n",
       "      <td>-0.333333</td>\n",
       "      <td>0.6</td>\n",
       "      <td>-0.402985</td>\n",
       "      <td>-1.0</td>\n",
       "      <td>-1.0</td>\n",
       "      <td>0.352113</td>\n",
       "      <td>-1.0</td>\n",
       "      <td>-0.181818</td>\n",
       "      <td>0.0</td>\n",
       "      <td>1</td>\n",
       "    </tr>\n",
       "    <tr>\n",
       "      <th>2</th>\n",
       "      <td>-0.632653</td>\n",
       "      <td>1.0</td>\n",
       "      <td>-1.0</td>\n",
       "      <td>0.3</td>\n",
       "      <td>-0.06136</td>\n",
       "      <td>-1.0</td>\n",
       "      <td>0.0</td>\n",
       "      <td>-0.464789</td>\n",
       "      <td>-1.0</td>\n",
       "      <td>-0.409091</td>\n",
       "      <td>-1.0</td>\n",
       "      <td>0</td>\n",
       "    </tr>\n",
       "    <tr>\n",
       "      <th>3</th>\n",
       "      <td>-0.183673</td>\n",
       "      <td>-1.0</td>\n",
       "      <td>0.333333</td>\n",
       "      <td>0.38</td>\n",
       "      <td>-0.290216</td>\n",
       "      <td>-1.0</td>\n",
       "      <td>-1.0</td>\n",
       "      <td>-0.323944</td>\n",
       "      <td>1.0</td>\n",
       "      <td>-0.068182</td>\n",
       "      <td>0.0</td>\n",
       "      <td>1</td>\n",
       "    </tr>\n",
       "    <tr>\n",
       "      <th>4</th>\n",
       "      <td>0.061224</td>\n",
       "      <td>1.0</td>\n",
       "      <td>-0.333333</td>\n",
       "      <td>0.5</td>\n",
       "      <td>-0.353234</td>\n",
       "      <td>-1.0</td>\n",
       "      <td>-1.0</td>\n",
       "      <td>-0.126761</td>\n",
       "      <td>-1.0</td>\n",
       "      <td>-0.409091</td>\n",
       "      <td>-1.0</td>\n",
       "      <td>0</td>\n",
       "    </tr>\n",
       "  </tbody>\n",
       "</table>\n",
       "</div>"
      ],
      "text/plain": [
       "        Age  Sex ChestPainType RestingBP Cholesterol FastingBS RestingECG  \\\n",
       "0 -0.510204  1.0          -1.0       0.4   -0.041459      -1.0       -1.0   \n",
       "1 -0.142857 -1.0     -0.333333       0.6   -0.402985      -1.0       -1.0   \n",
       "2 -0.632653  1.0          -1.0       0.3    -0.06136      -1.0        0.0   \n",
       "3 -0.183673 -1.0      0.333333      0.38   -0.290216      -1.0       -1.0   \n",
       "4  0.061224  1.0     -0.333333       0.5   -0.353234      -1.0       -1.0   \n",
       "\n",
       "      MaxHR ExerciseAngina   Oldpeak ST_Slope  HeartDisease  \n",
       "0  0.577465           -1.0 -0.409091     -1.0             0  \n",
       "1  0.352113           -1.0 -0.181818      0.0             1  \n",
       "2 -0.464789           -1.0 -0.409091     -1.0             0  \n",
       "3 -0.323944            1.0 -0.068182      0.0             1  \n",
       "4 -0.126761           -1.0 -0.409091     -1.0             0  "
      ]
     },
     "execution_count": 10,
     "metadata": {},
     "output_type": "execute_result"
    }
   ],
   "source": [
    "data = dataReplace(data)                          # Calling the Data Conversion Function and assigning it to variable data\n",
    "data = scale(data)                                # Calling the Feature Scaling Function and assigning it to variable data\n",
    "\n",
    "# Splitting the Dataset into Train set(60%), Cross Validation set(20%) and Test set(20%).\n",
    "train, val, test = np.split(data.sample(frac=1), [int(0.6 * len(data)), int(0.8 * len(data))])\n",
    "print(train.shape)\n",
    "print(val.shape)\n",
    "print(test.shape)\n",
    "data.head()"
   ]
  },
  {
   "cell_type": "markdown",
   "id": "7ee05c50",
   "metadata": {},
   "source": [
    "## Features and Labels Extraction"
   ]
  },
  {
   "cell_type": "code",
   "execution_count": 11,
   "id": "f785727f",
   "metadata": {},
   "outputs": [],
   "source": [
    "X_data = [\"Age\", \"Sex\", \"ChestPainType\", \"RestingBP\", \"Cholesterol\", \"FastingBS\", \"RestingECG\", \"MaxHR\", \n",
    "          \"ExerciseAngina\", \"Oldpeak\", \"ST_Slope\"]                # Extracting Features\n",
    "Y_data = [\"HeartDisease\"]                                         # Extracting Labels\n",
    "\n",
    "X_train = train[X_data]                                           # Assigning Features to X_train               \n",
    "Y_train = train[Y_data]                                           # Assigning Features to Y_train\n",
    "\n",
    "X_val = val[X_data]                                               # Assigning Features to X_val\n",
    "Y_val = val[Y_data]                                               # Assigning Features to Y_val\n",
    "\n",
    "X_test = test[X_data]                                             # Assigning Features to X_test\n",
    "Y_test = test[Y_data]                                             # Assigning Features to Y_test"
   ]
  },
  {
   "cell_type": "code",
   "execution_count": 12,
   "id": "d6e38f0f",
   "metadata": {},
   "outputs": [],
   "source": [
    "X_train = X_train.values                                          # Extracting values from X_train\n",
    "Y_train = Y_train.values                                          # Extracting values from Y_train\n",
    "\n",
    "X_val = X_val.values                                              # Extracting values from X_val\n",
    "Y_val = Y_val.values                                              # Extracting values from Y_val\n",
    "\n",
    "X_test = X_test.values                                            # Extracting values from X_test\n",
    "Y_test = Y_test.values                                            # Extracting values from Y_test"
   ]
  },
  {
   "cell_type": "code",
   "execution_count": 13,
   "id": "c72ad22f",
   "metadata": {},
   "outputs": [
    {
     "name": "stdout",
     "output_type": "stream",
     "text": [
      "Shape of X_train :  (11, 550)\n",
      "Shape of Y_train :  (1, 550)\n",
      "Shape of X_val :  (11, 184)\n",
      "Shape of Y_val :  (1, 184)\n",
      "Shape of X_test :  (11, 184)\n",
      "Shape of Y_test :  (1, 184)\n"
     ]
    }
   ],
   "source": [
    "X_train = X_train.T                                               # Taking Transpose of the Training Features\n",
    "Y_train = Y_train.reshape(1, X_train.shape[1])                    # Reshaping Training Labels \n",
    "print(\"Shape of X_train : \", X_train.shape)\n",
    "print(\"Shape of Y_train : \", Y_train.shape)\n",
    "\n",
    "X_val = X_val.T                                                   # Taking Transpose of the Cross Validation Features\n",
    "Y_val = Y_val.reshape(1, X_val.shape[1])                          # Reshaping Cross Validation Labels \n",
    "print(\"Shape of X_val : \", X_val.shape)\n",
    "print(\"Shape of Y_val : \", Y_val.shape)\n",
    "\n",
    "X_test = X_test.T                                                 # Taking Transpose of the Testing Features\n",
    "Y_test = Y_test.reshape(1, X_test.shape[1])                       # Reshaping Testing Labels \n",
    "print(\"Shape of X_test : \", X_test.shape)\n",
    "print(\"Shape of Y_test : \", Y_test.shape)"
   ]
  },
  {
   "cell_type": "markdown",
   "id": "bfe00bf1",
   "metadata": {},
   "source": [
    "## Sigmoid Function"
   ]
  },
  {
   "cell_type": "code",
   "execution_count": 14,
   "id": "3f334c7f",
   "metadata": {},
   "outputs": [],
   "source": [
    "def sigmoid(x):\n",
    "    '''\n",
    "    This fucntion creates a Sigmoid Funtion on given features and features.\n",
    "    The model takes the following arguments:\n",
    "    \n",
    "    X (numpy array): Input data\n",
    "    \n",
    "    returns:\n",
    "    Sigmoid Function\n",
    "    '''\n",
    "    return 1/(1 + np.exp(-x))"
   ]
  },
  {
   "cell_type": "markdown",
   "id": "91f877cd",
   "metadata": {},
   "source": [
    "## Logistic Regression Model"
   ]
  },
  {
   "cell_type": "code",
   "execution_count": 15,
   "id": "6ab9a95d",
   "metadata": {},
   "outputs": [],
   "source": [
    "def model(X, Y, X_val, Y_val, learning_rate, iterations, lamda, verbose = True):\n",
    "    '''\n",
    "    This fucntion creates a model and trains it on the supplied dataset using the\n",
    "    provided learning rate and regularization for a given number of iterations.\n",
    "    The model takes the following arguments:\n",
    "    \n",
    "    X (numpy array): Input dataset\n",
    "    Y (numpy array): Actual labels\n",
    "    learning_rate (float): 0.001\n",
    "    iterations (int): 30000\n",
    "    lamda (float): [0, 0.01, 0.1, 1, 10]\n",
    "    \n",
    "    returns:\n",
    "    W (numpy array): The weights of the model\n",
    "    B (numpy array): The Bias value of the model\n",
    "    cost_list (list): list of all the cost values for the given iterations\n",
    "    '''\n",
    "    \n",
    "    m = X.shape[1]                                           # Number of Training Examples\n",
    "    n = X.shape[0]                                           # Number of Features \n",
    "    \n",
    "    m_val = X_val.shape[1]\n",
    "    n_val = X_val.shape[0]\n",
    "    \n",
    "    W = np.zeros((n,1))                                      # Intiallizing wieghts to zero\n",
    "    B = 0                                                    # Initiallizing bias to zero\n",
    "    \n",
    "    cost_list = []                                           # Initialling Cost Function List as empty\n",
    "    val_cost_list = []\n",
    "    \n",
    "    for i in range(iterations):\n",
    "        \n",
    "        Z = np.dot(W.T, X) + B                               # Linear Regression Hypothesis Model \n",
    "        h = sigmoid(Z)                                       # Applying Sigmoid Funtion on Linear Regression Hypothesis\n",
    "        \n",
    "        Z_val = np.dot(W.T, X_val) + B\n",
    "        h_val = sigmoid(Z_val)\n",
    "        \n",
    "        # Cost Function\n",
    "        cost = (-(1 / m) * np.sum(Y * np.log(h) + (1 - Y) * np.log(1 - h))) + ((lamda / (2 * m)) * np.sum(W**2))\n",
    "        \n",
    "        # Validation Set Error Estimation \n",
    "        cost_val = (-(1 / m_val) * np.sum(Y_val * np.log(h_val) + (1 - Y_val) * np.log(1 - h_val)))\n",
    "        \n",
    "        # Gradient Descent\n",
    "        dW = (1 / m) * np.dot(h - Y, X.T)\n",
    "        dB = (1 / m) * np.sum(h - Y)\n",
    "        \n",
    "        W = W - learning_rate * (dW.T + ((lamda / m) * W))    # Applying Regularization\n",
    "        B = B - learning_rate * dB\n",
    "        \n",
    "        # Keeping track of our cost function values\n",
    "        cost_list.append(cost)                                # Stacking all train costs in a list\n",
    "        val_cost_list.append(cost_val)                        # Stacking all validation costs in a list\n",
    "    \n",
    "\n",
    "        if verbose:\n",
    "            if(i%(iterations/10) == 0):\n",
    "                print(\"cost after \", i , \"iteration is : \", cost)\n",
    "                h[h>0.5] = 1\n",
    "                h[h<=0.5] = 0\n",
    "                print(\"Accuracy:\", ((h == Y).sum())/Y.shape[1])\n",
    "                print(\"Weight afters\", i , \"iteration is : \", W)\n",
    "        \n",
    "    return W, B, cost_list, val_cost_list"
   ]
  },
  {
   "cell_type": "markdown",
   "id": "7ffe28d7",
   "metadata": {},
   "source": [
    "\n",
    "## Model Selection (Degree of Polynomials)"
   ]
  },
  {
   "cell_type": "code",
   "execution_count": 16,
   "id": "88e07301",
   "metadata": {},
   "outputs": [
    {
     "name": "stdout",
     "output_type": "stream",
     "text": [
      "Polynomial 1 and Lambda 0\n",
      "Min Train Cost Error = 0.35789079511526384\n",
      "Min Validation Error = 0.43019075296067516\n",
      "Polynomial 2 and Lambda 0\n",
      "Min Train Cost Error = 0.3196464369009978\n",
      "Min Validation Error = 0.3980184657914408\n",
      "Polynomial 4 and Lambda 0\n",
      "Min Train Cost Error = 0.31625562587399375\n",
      "Min Validation Error = 0.39376409034110493\n",
      "Polynomial 8 and Lambda 0\n",
      "Min Train Cost Error = 0.3165995360623115\n",
      "Min Validation Error = 0.4004714484619931\n",
      "Polynomial 10 and Lambda 0\n",
      "Min Train Cost Error = 0.31702086354675035\n",
      "Min Validation Error = 0.4030006495849325\n",
      "Polynomial 12 and Lambda 0\n",
      "Min Train Cost Error = 0.3172616781201052\n",
      "Min Validation Error = 0.4033420104713509\n"
     ]
    },
    {
     "data": {
      "image/png": "[encoded data removed]",
      "text/plain": [
       "<Figure size 720x360 with 1 Axes>"
      ]
     },
     "metadata": {
      "needs_background": "light"
     },
     "output_type": "display_data"
    }
   ],
   "source": [
    "iterations = 10000                                              # Number of times the Model will run to optimize parameters\n",
    "learning_rate = 0.03                                            # Alpha is the step frequency for Gradient Descent\n",
    "lamdas = [0, 0.01, 0.1, 1, 10]                                  # Regularization Parameters\n",
    "polynomials = [1, 2, 4, 8, 10, 12]                              # Degree of Polynomials\n",
    "\n",
    "minCostArray = []                                               \n",
    "minValArray = []                                               \n",
    "\n",
    "for poly in polynomials:\n",
    "    train_X = X_train.copy()                                    # Make a copy of Training Features and Assign it to the variable\n",
    "    val_X = X_val.copy()                                        # Make a copy of Validation Features and Assign it to the variable \n",
    "        \n",
    "    for i in range(1, poly):\n",
    "        train_X = np.append(train_X, X_train**poly, axis = 0)   # Designing multiple Degree Polynomial Features for Training Set   \n",
    "        val_X = np.append(val_X, X_val**poly, axis = 0)         # Designing 2nd Degree Polynomial Features for Validation Set\n",
    "    \n",
    "    for reg_param in lamdas:\n",
    "        print(f\"Polynomial {poly} and Lambda {reg_param}\")\n",
    "        W, B, cost_list, val_cost_list = model(train_X.astype('float'), Y_train.astype('float'), val_X.astype('float'), Y_val.astype('float'), learning_rate = learning_rate, iterations = iterations, lamda = reg_param, verbose = False)\n",
    "    \n",
    "        print('Min Train Cost Error = ' + str(np.min(cost_list)))            # Determining Minimum Training Cost Error\n",
    "        print('Min Validation Error = ' + str(np.min(val_cost_list)))        # Determining Minimum Validation Error\n",
    "        \n",
    "        \n",
    "        if reg_param == 0:\n",
    "            minCost = np.min(cost_list)                          # Determine min cost error from cost list\n",
    "            minCostArray.append(minCost)                         # Append all min cost errors\n",
    "            minValCost = np.min(val_cost_list)                   # Determine min val cost error from val cost list\n",
    "            minValArray.append(minValCost)                       # Append all min cost errors\n",
    "            break\n",
    "            \n",
    "plt.figure()\n",
    "plt.plot(polynomials, minCostArray)\n",
    "plt.plot(polynomials, minValArray)\n",
    "plt.xlabel('Degree of Polynomials (d)')\n",
    "plt.ylabel('Cost Error')\n",
    "plt.legend([\"Training Cost\", \"Validation Error\"], loc =\"upper right\")\n",
    "plt.show()"
   ]
  },
  {
   "cell_type": "markdown",
   "id": "7130f4f8",
   "metadata": {},
   "source": [
    "## Regularization Parameter Selection"
   ]
  },
  {
   "cell_type": "code",
   "execution_count": 17,
   "id": "4acc2fcf",
   "metadata": {},
   "outputs": [
    {
     "name": "stdout",
     "output_type": "stream",
     "text": [
      "Polynomial 2 and Lambda 0\n",
      "Min Train Cost Error = 0.3196464369009978\n",
      "Min Validation Error = 0.3980184657914408\n",
      "Polynomial 2 and Lambda 0.01\n",
      "Min Train Cost Error = 0.3197685625083855\n",
      "Min Validation Error = 0.3980163992125366\n",
      "Polynomial 2 and Lambda 0.1\n",
      "Min Train Cost Error = 0.32084852413413717\n",
      "Min Validation Error = 0.397997942083618\n",
      "Polynomial 2 and Lambda 1\n",
      "Min Train Cost Error = 0.3301125344294627\n",
      "Min Validation Error = 0.39782823045048804\n",
      "Polynomial 2 and Lambda 10\n",
      "Min Train Cost Error = 0.3762795712454424\n",
      "Min Validation Error = 0.3985354050776513\n",
      "Polynomial 2 and Lambda 20\n",
      "Min Train Cost Error = 0.40519308332239484\n",
      "Min Validation Error = 0.4040385320880448\n"
     ]
    },
    {
     "data": {
      "image/png": "[encoded data removed]",
      "text/plain": [
       "<Figure size 720x360 with 1 Axes>"
      ]
     },
     "metadata": {
      "needs_background": "light"
     },
     "output_type": "display_data"
    }
   ],
   "source": [
    "iterations = 10000                                              # Number of times the Model will run to optimize parameters\n",
    "learning_rate = 0.03                                            # Alpha is the step frequency for Gradient Descent\n",
    "lamdas = [0, 0.01, 0.1, 1, 10, 20]                              # Regularization Parameters\n",
    "polynomials = [1, 2, 4, 8, 10, 12]                              # Degree of Polynomials\n",
    "\n",
    "minCostArray = []\n",
    "minValArray = []\n",
    "\n",
    "for poly in polynomials:\n",
    "    train_X = X_train.copy()                                    # Make a copy of Training Features and Assign it to the variable\n",
    "    val_X = X_val.copy()                                        # Make a copy of Validation Features and Assign it to the variable\n",
    "        \n",
    "    for i in range(1, poly):\n",
    "        train_X = np.append(train_X, X_train**poly, axis = 0)   # Designing multiple Degree Polynomial Features for Training Set\n",
    "        val_X = np.append(val_X, X_val**poly, axis = 0)         # Designing 2nd Degree Polynomial Features for Validation Set\n",
    "    \n",
    "        if poly == 2:\n",
    "            for reg_param in lamdas:\n",
    "                print(f\"Polynomial {poly} and Lambda {reg_param}\")\n",
    "                W, B, cost_list, val_cost_list = model(train_X.astype('float'), Y_train.astype('float'), val_X.astype('float'), Y_val.astype('float'), learning_rate = learning_rate, iterations = iterations, lamda = reg_param, verbose = False)\n",
    "\n",
    "                \n",
    "                minCost = np.min(cost_list)                      # Determine min cost error from cost list\n",
    "                minCostArray.append(minCost)                     # Append all min cost errors\n",
    "                minValCost = np.min(val_cost_list)               # Determine min val cost error from val cost list\n",
    "                minValArray.append(minValCost)                   # Append all min cost errors\n",
    "                \n",
    "                print('Min Train Cost Error = ' + str(np.min(cost_list)))             # Determining Minimum Training Cost Error\n",
    "                print('Min Validation Error = ' + str(np.min(val_cost_list)))         # Determining Minimum Validation Error\n",
    "plt.figure()\n",
    "plt.plot(lamdas, minCostArray)\n",
    "plt.plot(lamdas, minValArray)\n",
    "plt.xlabel('Lamda (λ)')\n",
    "plt.ylabel('Cost Error')\n",
    "plt.legend([\"Training Cost\", \"Validation Error\"], loc =\"upper right\")\n",
    "plt.show()\n",
    "                "
   ]
  },
  {
   "cell_type": "markdown",
   "id": "0bbfa964",
   "metadata": {},
   "source": [
    "## "
   ]
  }
 ],
 "metadata": {
  "kernelspec": {
   "display_name": "Python 3",
   "language": "python",
   "name": "python3"
  },
  "language_info": {
   "codemirror_mode": {
    "name": "ipython",
    "version": 3
   },
   "file_extension": ".py",
   "mimetype": "text/x-python",
   "name": "python",
   "nbconvert_exporter": "python",
   "pygments_lexer": "ipython3",
   "version": "3.8.8"
  }
 },
 "nbformat": 4,
 "nbformat_minor": 5
}
